{
 "cells": [
  {
   "cell_type": "markdown",
   "metadata": {},
   "source": [
    "This notebook demonstrate most of the functionality offered by robpy by applying it to the topgear dataset. Utility function and univariate estimators are not demonstrated separately as they are mostly implemented as helpers to the multivariate estimators."
   ]
  },
  {
   "cell_type": "markdown",
   "metadata": {},
   "source": [
    "# Imports"
   ]
  },
  {
   "cell_type": "code",
   "execution_count": 144,
   "metadata": {},
   "outputs": [
    {
     "name": "stdout",
     "output_type": "stream",
     "text": [
      "The autoreload extension is already loaded. To reload it, use:\n",
      "  %reload_ext autoreload\n"
     ]
    }
   ],
   "source": [
    "\n",
    "import json\n",
    "import matplotlib.pyplot as plt\n",
    "import numpy as np\n",
    "\n",
    "from scipy.stats import chi2\n",
    "\n",
    "from robpy.datasets import load_topgear\n",
    "from robpy.preprocessing import DataCleaner, RobustPowerTransformer\n",
    "from robpy.covariance import FastMCDEstimator, OGKEstimator\n",
    "from robpy.pca import ROBPCAEstimator\n",
    "from robpy.outliers import DDCEstimator\n",
    "from robpy.regression import MMEstimator\n",
    "\n",
    "%load_ext autoreload\n",
    "%autoreload 2\n"
   ]
  },
  {
   "cell_type": "markdown",
   "metadata": {},
   "source": [
    "# Load data"
   ]
  },
  {
   "cell_type": "markdown",
   "metadata": {},
   "source": [
    "Robpy has a dataset module which allows the user quick access to a few common datasets used in robust statistics literature. In this demo, we will work with the Topgear dataset."
   ]
  },
  {
   "cell_type": "code",
   "execution_count": 145,
   "metadata": {},
   "outputs": [
    {
     "name": "stdout",
     "output_type": "stream",
     "text": [
      ".. _topgear_dataset:\n",
      "\n",
      "TopGear dataset\n",
      "--------------------\n",
      "\n",
      "**Data Set Characteristics:**\n",
      "\n",
      "- Number of Instances: 297 \n",
      "- Number of Attributes: 32 (13 numeric, 19 categorical)\n",
      "- Attribute Information:\n",
      "    * Maker (str): the car maker.\n",
      "    * Model (str): the car model.\n",
      "    * Type (str): the exact model type.\n",
      "    * Fuel (str): the type of fuel (\"Diesel\" or \"Petrol\").\n",
      "    * Price (float): the list price (in UK pounds)\n",
      "    * Cylinders (float): the number of cylinders in the engine.\n",
      "    * Displacement (float): the displacement of the engine (in cc).\n",
      "    * DriveWheel (str): the type of drive wheel (\"4WD\", \"Front\" or \"Rear\").\n",
      "    * BHP (float): the power of the engine (in bhp).\n",
      "    * Torque (float): the torque of the engine (in lb/ft).\n",
      "    * Acceleration (float): the time it takes the car to get from 0 to 62 mph (in seconds).\n",
      "    * TopSpeed (float): the car's top speed (in mph).\n",
      "    * MPG (float): the combined fuel consuption (urban + extra urban; in miles per gallon).\n",
      "    * Weight (float): the car's curb weight (in kg).\n",
      "    * Length (float): the car's length (in mm).\n",
      "    * Width (float): the car's width (in mm).\n",
      "    * Height (float): the car's height (in mm).\n",
      "    * AdaptiveHeadlights (str): whether the car has adaptive headlights (\"no\", \"optional\" or \"standard\").\n",
      "    * AdjustableSteering (str): whether the car has adjustable steering (\"no\" or \"standard\").\n",
      "    * AlarmSystem (str) whether the car has an alarm system (\"no/optional\" or \"standard\").\n",
      "    * Automatic (str) whether the car has an automatic transmission (\"no\", \"optional\" or \"standard\").\n",
      "    * Bluetooth (str) whether the car has bluetooth (\"no\", \"optional\" or \"standard\").\n",
      "    * ClimateControl (str) whether the car has climate control (\"no\", \"optional\" or \"standard\").\n",
      "    * CruiseControl (str) whether the car has cruise control (\"no\", \"optional\" or \"standard\").\n",
      "    * ElectricSeats (str) whether the car has electric seats (\"no\", \"optional\" or \"standard\").\n",
      "    * Leather (str) whether the car has a leather interior (\"no\", \"optional\" or \"standard\").\n",
      "    * ParkingSensors (str) whether the car has parking sensors (\"no\", \"optional\" or \"standard\").\n",
      "    * PowerSteering (str) whether the car has power steering (\"no\" or \"standard\").\n",
      "    * SatNav (str) whether the car has a satellite navigation system (\"no\", \"optional\" or \"standard\").\n",
      "    * ESP (str) whether the car has ESP (\"no\", \"optional\" or \"standard\").\n",
      "    * Verdict (float) review score between 1 (lowest) and 10 (highest).\n",
      "    * Origin (str) the origin of the car maker (\"Asia\", \"Europe\" or \"USA\").\n",
      "\n",
      "- Creator: BBC TopGear\n",
      "- Source: https://rdrr.io/cran/robustHD/man/TopGear.html\n",
      "\n",
      "**Data Set Description:**\n",
      "The data set contains information on cars featured on the website of the popular BBC television show Top Gear.\n",
      "The data were scraped from http://www.topgear.com/uk/ on 2014-02-24. Variable Origin was added based on the car maker information.\n",
      "\n",
      "\n",
      "\n"
     ]
    }
   ],
   "source": [
    "data = load_topgear(as_frame=True)\n",
    "\n",
    "print(data.DESCR)"
   ]
  },
  {
   "cell_type": "markdown",
   "metadata": {},
   "source": [
    "The `DESCR` attribbute of the data object contains all metadata and a description of the dataset."
   ]
  },
  {
   "cell_type": "code",
   "execution_count": 146,
   "metadata": {},
   "outputs": [
    {
     "data": {
      "text/html": [
       "<div>\n",
       "<style scoped>\n",
       "    .dataframe tbody tr th:only-of-type {\n",
       "        vertical-align: middle;\n",
       "    }\n",
       "\n",
       "    .dataframe tbody tr th {\n",
       "        vertical-align: top;\n",
       "    }\n",
       "\n",
       "    .dataframe thead th {\n",
       "        text-align: right;\n",
       "    }\n",
       "</style>\n",
       "<table border=\"1\" class=\"dataframe\">\n",
       "  <thead>\n",
       "    <tr style=\"text-align: right;\">\n",
       "      <th></th>\n",
       "      <th>Maker</th>\n",
       "      <th>Model</th>\n",
       "      <th>Type</th>\n",
       "      <th>Fuel</th>\n",
       "      <th>Price</th>\n",
       "      <th>Cylinders</th>\n",
       "      <th>Displacement</th>\n",
       "      <th>DriveWheel</th>\n",
       "      <th>BHP</th>\n",
       "      <th>Torque</th>\n",
       "      <th>...</th>\n",
       "      <th>ClimateControl</th>\n",
       "      <th>CruiseControl</th>\n",
       "      <th>ElectricSeats</th>\n",
       "      <th>Leather</th>\n",
       "      <th>ParkingSensors</th>\n",
       "      <th>PowerSteering</th>\n",
       "      <th>SatNav</th>\n",
       "      <th>ESP</th>\n",
       "      <th>Verdict</th>\n",
       "      <th>Origin</th>\n",
       "    </tr>\n",
       "  </thead>\n",
       "  <tbody>\n",
       "    <tr>\n",
       "      <th>0</th>\n",
       "      <td>Alfa Romeo</td>\n",
       "      <td>Giulietta</td>\n",
       "      <td>Giulietta 1.6 JTDM-2 105 Veloce 5d</td>\n",
       "      <td>Diesel</td>\n",
       "      <td>21250.0</td>\n",
       "      <td>4.0</td>\n",
       "      <td>1598.0</td>\n",
       "      <td>Front</td>\n",
       "      <td>105.0</td>\n",
       "      <td>236.0</td>\n",
       "      <td>...</td>\n",
       "      <td>standard</td>\n",
       "      <td>standard</td>\n",
       "      <td>optional</td>\n",
       "      <td>optional</td>\n",
       "      <td>optional</td>\n",
       "      <td>standard</td>\n",
       "      <td>optional</td>\n",
       "      <td>standard</td>\n",
       "      <td>6.0</td>\n",
       "      <td>Europe</td>\n",
       "    </tr>\n",
       "    <tr>\n",
       "      <th>1</th>\n",
       "      <td>Alfa Romeo</td>\n",
       "      <td>MiTo</td>\n",
       "      <td>MiTo 1.4 TB MultiAir 105 Distinctive 3d</td>\n",
       "      <td>Petrol</td>\n",
       "      <td>15155.0</td>\n",
       "      <td>4.0</td>\n",
       "      <td>1368.0</td>\n",
       "      <td>Front</td>\n",
       "      <td>105.0</td>\n",
       "      <td>95.0</td>\n",
       "      <td>...</td>\n",
       "      <td>optional</td>\n",
       "      <td>standard</td>\n",
       "      <td>no</td>\n",
       "      <td>optional</td>\n",
       "      <td>standard</td>\n",
       "      <td>standard</td>\n",
       "      <td>optional</td>\n",
       "      <td>standard</td>\n",
       "      <td>5.0</td>\n",
       "      <td>Europe</td>\n",
       "    </tr>\n",
       "    <tr>\n",
       "      <th>2</th>\n",
       "      <td>Aston Martin</td>\n",
       "      <td>Cygnet</td>\n",
       "      <td>Cygnet 1.33 Standard 3d</td>\n",
       "      <td>Petrol</td>\n",
       "      <td>30995.0</td>\n",
       "      <td>4.0</td>\n",
       "      <td>1329.0</td>\n",
       "      <td>Front</td>\n",
       "      <td>98.0</td>\n",
       "      <td>92.0</td>\n",
       "      <td>...</td>\n",
       "      <td>standard</td>\n",
       "      <td>standard</td>\n",
       "      <td>no</td>\n",
       "      <td>no</td>\n",
       "      <td>no</td>\n",
       "      <td>standard</td>\n",
       "      <td>standard</td>\n",
       "      <td>standard</td>\n",
       "      <td>7.0</td>\n",
       "      <td>Europe</td>\n",
       "    </tr>\n",
       "    <tr>\n",
       "      <th>3</th>\n",
       "      <td>Aston Martin</td>\n",
       "      <td>DB9</td>\n",
       "      <td>DB9 6.0 517 Standard 2d 13MY</td>\n",
       "      <td>Petrol</td>\n",
       "      <td>131995.0</td>\n",
       "      <td>12.0</td>\n",
       "      <td>5935.0</td>\n",
       "      <td>Rear</td>\n",
       "      <td>517.0</td>\n",
       "      <td>457.0</td>\n",
       "      <td>...</td>\n",
       "      <td>standard</td>\n",
       "      <td>standard</td>\n",
       "      <td>standard</td>\n",
       "      <td>standard</td>\n",
       "      <td>standard</td>\n",
       "      <td>standard</td>\n",
       "      <td>standard</td>\n",
       "      <td>standard</td>\n",
       "      <td>7.0</td>\n",
       "      <td>Europe</td>\n",
       "    </tr>\n",
       "    <tr>\n",
       "      <th>4</th>\n",
       "      <td>Aston Martin</td>\n",
       "      <td>DB9 Volante</td>\n",
       "      <td>DB9 6.0 V12 517 Volante 2d 13MY</td>\n",
       "      <td>Petrol</td>\n",
       "      <td>141995.0</td>\n",
       "      <td>12.0</td>\n",
       "      <td>5935.0</td>\n",
       "      <td>Rear</td>\n",
       "      <td>517.0</td>\n",
       "      <td>457.0</td>\n",
       "      <td>...</td>\n",
       "      <td>standard</td>\n",
       "      <td>standard</td>\n",
       "      <td>standard</td>\n",
       "      <td>standard</td>\n",
       "      <td>standard</td>\n",
       "      <td>standard</td>\n",
       "      <td>standard</td>\n",
       "      <td>standard</td>\n",
       "      <td>7.0</td>\n",
       "      <td>Europe</td>\n",
       "    </tr>\n",
       "  </tbody>\n",
       "</table>\n",
       "<p>5 rows × 32 columns</p>\n",
       "</div>"
      ],
      "text/plain": [
       "          Maker        Model                                     Type    Fuel  \\\n",
       "0    Alfa Romeo    Giulietta       Giulietta 1.6 JTDM-2 105 Veloce 5d  Diesel   \n",
       "1    Alfa Romeo         MiTo  MiTo 1.4 TB MultiAir 105 Distinctive 3d  Petrol   \n",
       "2  Aston Martin       Cygnet                  Cygnet 1.33 Standard 3d  Petrol   \n",
       "3  Aston Martin          DB9             DB9 6.0 517 Standard 2d 13MY  Petrol   \n",
       "4  Aston Martin  DB9 Volante          DB9 6.0 V12 517 Volante 2d 13MY  Petrol   \n",
       "\n",
       "      Price  Cylinders  Displacement DriveWheel    BHP  Torque  ...  \\\n",
       "0   21250.0        4.0        1598.0      Front  105.0   236.0  ...   \n",
       "1   15155.0        4.0        1368.0      Front  105.0    95.0  ...   \n",
       "2   30995.0        4.0        1329.0      Front   98.0    92.0  ...   \n",
       "3  131995.0       12.0        5935.0       Rear  517.0   457.0  ...   \n",
       "4  141995.0       12.0        5935.0       Rear  517.0   457.0  ...   \n",
       "\n",
       "   ClimateControl  CruiseControl  ElectricSeats   Leather  ParkingSensors  \\\n",
       "0        standard       standard       optional  optional        optional   \n",
       "1        optional       standard             no  optional        standard   \n",
       "2        standard       standard             no        no              no   \n",
       "3        standard       standard       standard  standard        standard   \n",
       "4        standard       standard       standard  standard        standard   \n",
       "\n",
       "   PowerSteering    SatNav       ESP Verdict  Origin  \n",
       "0       standard  optional  standard     6.0  Europe  \n",
       "1       standard  optional  standard     5.0  Europe  \n",
       "2       standard  standard  standard     7.0  Europe  \n",
       "3       standard  standard  standard     7.0  Europe  \n",
       "4       standard  standard  standard     7.0  Europe  \n",
       "\n",
       "[5 rows x 32 columns]"
      ]
     },
     "execution_count": 146,
     "metadata": {},
     "output_type": "execute_result"
    }
   ],
   "source": [
    "data.data.head()"
   ]
  },
  {
   "cell_type": "markdown",
   "metadata": {},
   "source": [
    "# Preprocess data"
   ]
  },
  {
   "cell_type": "markdown",
   "metadata": {},
   "source": [
    "## Cleaning"
   ]
  },
  {
   "cell_type": "markdown",
   "metadata": {},
   "source": [
    "We use `DataCleaner` to remove non-numeric columns as well as columns and rows with too many missings."
   ]
  },
  {
   "cell_type": "code",
   "execution_count": 147,
   "metadata": {},
   "outputs": [],
   "source": [
    "cleaner = DataCleaner().fit(data.data)\n",
    "clean_data = cleaner.transform(data.data)"
   ]
  },
  {
   "cell_type": "markdown",
   "metadata": {},
   "source": [
    "We can inspect the dropped columns by type:"
   ]
  },
  {
   "cell_type": "code",
   "execution_count": 148,
   "metadata": {},
   "outputs": [
    {
     "name": "stdout",
     "output_type": "stream",
     "text": [
      "{\n",
      "    \"non_numeric_cols\": [\n",
      "        \"Maker\",\n",
      "        \"Model\",\n",
      "        \"Type\",\n",
      "        \"Fuel\",\n",
      "        \"DriveWheel\",\n",
      "        \"AdaptiveHeadlights\",\n",
      "        \"AdjustableSteering\",\n",
      "        \"AlarmSystem\",\n",
      "        \"Automatic\",\n",
      "        \"Bluetooth\",\n",
      "        \"ClimateControl\",\n",
      "        \"CruiseControl\",\n",
      "        \"ElectricSeats\",\n",
      "        \"Leather\",\n",
      "        \"ParkingSensors\",\n",
      "        \"PowerSteering\",\n",
      "        \"SatNav\",\n",
      "        \"ESP\",\n",
      "        \"Origin\"\n",
      "    ],\n",
      "    \"cols_rownumbers\": [],\n",
      "    \"cols_discrete\": [\n",
      "        \"Fuel\",\n",
      "        \"DriveWheel\",\n",
      "        \"AdaptiveHeadlights\",\n",
      "        \"AdjustableSteering\",\n",
      "        \"AlarmSystem\",\n",
      "        \"Automatic\",\n",
      "        \"Bluetooth\",\n",
      "        \"ClimateControl\",\n",
      "        \"CruiseControl\",\n",
      "        \"ElectricSeats\",\n",
      "        \"Leather\",\n",
      "        \"ParkingSensors\",\n",
      "        \"PowerSteering\",\n",
      "        \"SatNav\",\n",
      "        \"ESP\",\n",
      "        \"Origin\"\n",
      "    ],\n",
      "    \"cols_bad_scale\": [\n",
      "        \"Cylinders\"\n",
      "    ],\n",
      "    \"cols_missings\": []\n",
      "}\n"
     ]
    }
   ],
   "source": [
    "print(json.dumps(cleaner.dropped_columns, indent=4))"
   ]
  },
  {
   "cell_type": "markdown",
   "metadata": {},
   "source": [
    "As well as the dropped rows:"
   ]
  },
  {
   "cell_type": "code",
   "execution_count": 149,
   "metadata": {},
   "outputs": [
    {
     "data": {
      "text/plain": [
       "{'rows_missings': []}"
      ]
     },
     "execution_count": 149,
     "metadata": {},
     "output_type": "execute_result"
    }
   ],
   "source": [
    "cleaner.dropped_rows"
   ]
  },
  {
   "cell_type": "markdown",
   "metadata": {},
   "source": [
    "Let's also exclude `Verdict` from the features for further analysis"
   ]
  },
  {
   "cell_type": "code",
   "execution_count": 150,
   "metadata": {},
   "outputs": [],
   "source": [
    "clean_data = clean_data.drop(columns=['Verdict'])"
   ]
  },
  {
   "cell_type": "markdown",
   "metadata": {},
   "source": [
    "## Transforming"
   ]
  },
  {
   "cell_type": "markdown",
   "metadata": {},
   "source": [
    "The `Price` variable has a long tail. It's a good idea to apply a power transformation to it"
   ]
  },
  {
   "cell_type": "code",
   "execution_count": 151,
   "metadata": {},
   "outputs": [
    {
     "data": {
      "text/plain": [
       "<Axes: >"
      ]
     },
     "execution_count": 151,
     "metadata": {},
     "output_type": "execute_result"
    },
    {
     "data": {
      "image/png": "[encoded data removed]",
      "text/plain": [
       "<Figure size 1000x200 with 1 Axes>"
      ]
     },
     "metadata": {},
     "output_type": "display_data"
    }
   ],
   "source": [
    "clean_data['Price'].hist(bins=20, figsize=(10, 2))"
   ]
  },
  {
   "cell_type": "code",
   "execution_count": 152,
   "metadata": {},
   "outputs": [],
   "source": [
    "transformer = RobustPowerTransformer().fit(clean_data['Price'])\n",
    "\n",
    "clean_data['Price_transformed'] = transformer.transform(clean_data['Price'])"
   ]
  },
  {
   "cell_type": "markdown",
   "metadata": {},
   "source": [
    "We can inspect which method was selected as well as which lambda value was applied for the transformation:"
   ]
  },
  {
   "cell_type": "code",
   "execution_count": 153,
   "metadata": {},
   "outputs": [
    {
     "data": {
      "text/plain": [
       "('boxcox', -0.42698150173653826)"
      ]
     },
     "execution_count": 153,
     "metadata": {},
     "output_type": "execute_result"
    }
   ],
   "source": [
    "transformer.method, transformer.lambda_rew"
   ]
  },
  {
   "cell_type": "code",
   "execution_count": 154,
   "metadata": {},
   "outputs": [
    {
     "data": {
      "text/plain": [
       "<Axes: >"
      ]
     },
     "execution_count": 154,
     "metadata": {},
     "output_type": "execute_result"
    },
    {
     "data": {
      "image/png": "[encoded data removed]",
      "text/plain": [
       "<Figure size 1000x200 with 1 Axes>"
      ]
     },
     "metadata": {},
     "output_type": "display_data"
    }
   ],
   "source": [
    "clean_data['Price_transformed'].hist(bins=20, figsize=(10, 2))"
   ]
  },
  {
   "cell_type": "markdown",
   "metadata": {},
   "source": [
    "It's best to also transform `displacement`, `HP`, `Torque` and `Topspeed` as these variables are also skewed."
   ]
  },
  {
   "cell_type": "code",
   "execution_count": 155,
   "metadata": {},
   "outputs": [
    {
     "data": {
      "image/png": "[encoded data removed]",
      "text/plain": [
       "<Figure size 1500x800 with 8 Axes>"
      ]
     },
     "metadata": {},
     "output_type": "display_data"
    }
   ],
   "source": [
    "fig, axs = plt.subplots(2, 2, figsize=(15, 8))\n",
    "for col, ax in zip(['Displacement', 'BHP', 'Torque', 'TopSpeed'], axs.flatten()):\n",
    "    clean_data[col].hist(ax=ax, bins=20, alpha=0.3)\n",
    "    ax.set_title(col)\n",
    "    clean_data[col] = np.log(clean_data[col])\n",
    "    ax2=ax.twiny()\n",
    "    clean_data[col].hist(ax=ax2, bins=20, label='log-transformed', color='orange', alpha=0.3)\n",
    "    ax.grid(False)\n",
    "    ax2.grid(False)\n",
    "    ax2.legend(loc='upper right')\n",
    "fig.tight_layout()"
   ]
  },
  {
   "cell_type": "markdown",
   "metadata": {},
   "source": [
    "# Regression"
   ]
  },
  {
   "cell_type": "markdown",
   "metadata": {},
   "source": [
    "We can use robust regression to predict the (transformed) price using the remaining variables. For regression, we have to drop all missings."
   ]
  },
  {
   "cell_type": "code",
   "execution_count": 156,
   "metadata": {},
   "outputs": [],
   "source": [
    "clean_data2 = clean_data.dropna()\n",
    "X = clean_data2.drop(columns=['Price', 'Price_transformed'])\n",
    "y = clean_data2['Price_transformed']"
   ]
  },
  {
   "cell_type": "code",
   "execution_count": 157,
   "metadata": {},
   "outputs": [],
   "source": [
    "estimator = MMEstimator().fit(X, y)"
   ]
  },
  {
   "cell_type": "markdown",
   "metadata": {},
   "source": [
    "We can now get a diagnostic plot and ask for the underlying data"
   ]
  },
  {
   "cell_type": "code",
   "execution_count": 158,
   "metadata": {},
   "outputs": [
    {
     "data": {
      "image/png": "[encoded data removed]",
      "text/plain": [
       "<Figure size 1000x400 with 1 Axes>"
      ]
     },
     "metadata": {},
     "output_type": "display_data"
    }
   ],
   "source": [
    "resid, std_resid, distances, vt, ht = estimator.diagnostic_plot(X, y.to_numpy(), return_data=True)"
   ]
  },
  {
   "cell_type": "markdown",
   "metadata": {},
   "source": [
    "Now we can get an overview of the bad leverage points:"
   ]
  },
  {
   "cell_type": "code",
   "execution_count": 159,
   "metadata": {},
   "outputs": [
    {
     "data": {
      "text/html": [
       "<div>\n",
       "<style scoped>\n",
       "    .dataframe tbody tr th:only-of-type {\n",
       "        vertical-align: middle;\n",
       "    }\n",
       "\n",
       "    .dataframe tbody tr th {\n",
       "        vertical-align: top;\n",
       "    }\n",
       "\n",
       "    .dataframe thead th {\n",
       "        text-align: right;\n",
       "    }\n",
       "</style>\n",
       "<table border=\"1\" class=\"dataframe\">\n",
       "  <thead>\n",
       "    <tr style=\"text-align: right;\">\n",
       "      <th></th>\n",
       "      <th>Price</th>\n",
       "      <th>Displacement</th>\n",
       "      <th>BHP</th>\n",
       "      <th>Torque</th>\n",
       "      <th>Acceleration</th>\n",
       "      <th>TopSpeed</th>\n",
       "      <th>MPG</th>\n",
       "      <th>Weight</th>\n",
       "      <th>Length</th>\n",
       "      <th>Width</th>\n",
       "      <th>Height</th>\n",
       "      <th>Price_transformed</th>\n",
       "      <th>predicted_price</th>\n",
       "    </tr>\n",
       "  </thead>\n",
       "  <tbody>\n",
       "    <tr>\n",
       "      <th>2</th>\n",
       "      <td>30995.0</td>\n",
       "      <td>7.192182</td>\n",
       "      <td>4.584967</td>\n",
       "      <td>4.521789</td>\n",
       "      <td>11.8</td>\n",
       "      <td>4.663439</td>\n",
       "      <td>56.0</td>\n",
       "      <td>988.0</td>\n",
       "      <td>3078.0</td>\n",
       "      <td>1680.0</td>\n",
       "      <td>1500.0</td>\n",
       "      <td>0.195732</td>\n",
       "      <td>11766.0</td>\n",
       "    </tr>\n",
       "    <tr>\n",
       "      <th>5</th>\n",
       "      <td>396000.0</td>\n",
       "      <td>8.688622</td>\n",
       "      <td>6.234411</td>\n",
       "      <td>6.040255</td>\n",
       "      <td>4.2</td>\n",
       "      <td>5.247024</td>\n",
       "      <td>17.0</td>\n",
       "      <td>1680.0</td>\n",
       "      <td>4385.0</td>\n",
       "      <td>1865.0</td>\n",
       "      <td>1250.0</td>\n",
       "      <td>2.347343</td>\n",
       "      <td>60039.0</td>\n",
       "    </tr>\n",
       "    <tr>\n",
       "      <th>6</th>\n",
       "      <td>189995.0</td>\n",
       "      <td>8.688622</td>\n",
       "      <td>6.350886</td>\n",
       "      <td>6.124683</td>\n",
       "      <td>4.1</td>\n",
       "      <td>5.209486</td>\n",
       "      <td>19.0</td>\n",
       "      <td>1739.0</td>\n",
       "      <td>4720.0</td>\n",
       "      <td>1910.0</td>\n",
       "      <td>1294.0</td>\n",
       "      <td>1.944592</td>\n",
       "      <td>79759.0</td>\n",
       "    </tr>\n",
       "    <tr>\n",
       "      <th>49</th>\n",
       "      <td>1139985.0</td>\n",
       "      <td>8.986321</td>\n",
       "      <td>6.894670</td>\n",
       "      <td>6.826545</td>\n",
       "      <td>2.5</td>\n",
       "      <td>5.529429</td>\n",
       "      <td>10.0</td>\n",
       "      <td>1990.0</td>\n",
       "      <td>4462.0</td>\n",
       "      <td>1998.0</td>\n",
       "      <td>1204.0</td>\n",
       "      <td>2.744618</td>\n",
       "      <td>134014.0</td>\n",
       "    </tr>\n",
       "    <tr>\n",
       "      <th>53</th>\n",
       "      <td>39995.0</td>\n",
       "      <td>8.726157</td>\n",
       "      <td>6.068426</td>\n",
       "      <td>6.037871</td>\n",
       "      <td>5.6</td>\n",
       "      <td>5.043425</td>\n",
       "      <td>20.0</td>\n",
       "      <td>1890.0</td>\n",
       "      <td>4836.0</td>\n",
       "      <td>1918.0</td>\n",
       "      <td>1376.0</td>\n",
       "      <td>0.530415</td>\n",
       "      <td>83924.0</td>\n",
       "    </tr>\n",
       "    <tr>\n",
       "      <th>76</th>\n",
       "      <td>198936.0</td>\n",
       "      <td>8.411610</td>\n",
       "      <td>6.331502</td>\n",
       "      <td>5.986452</td>\n",
       "      <td>3.4</td>\n",
       "      <td>5.288267</td>\n",
       "      <td>21.0</td>\n",
       "      <td>1430.0</td>\n",
       "      <td>4527.0</td>\n",
       "      <td>1937.0</td>\n",
       "      <td>1211.0</td>\n",
       "      <td>1.973684</td>\n",
       "      <td>60260.0</td>\n",
       "    </tr>\n",
       "    <tr>\n",
       "      <th>79</th>\n",
       "      <td>227107.0</td>\n",
       "      <td>8.742255</td>\n",
       "      <td>6.492240</td>\n",
       "      <td>6.220590</td>\n",
       "      <td>3.7</td>\n",
       "      <td>5.337538</td>\n",
       "      <td>18.0</td>\n",
       "      <td>1790.0</td>\n",
       "      <td>4905.0</td>\n",
       "      <td>1955.0</td>\n",
       "      <td>1380.0</td>\n",
       "      <td>2.054347</td>\n",
       "      <td>79596.0</td>\n",
       "    </tr>\n",
       "    <tr>\n",
       "      <th>133</th>\n",
       "      <td>265865.0</td>\n",
       "      <td>8.779250</td>\n",
       "      <td>6.551080</td>\n",
       "      <td>6.232448</td>\n",
       "      <td>2.9</td>\n",
       "      <td>5.379897</td>\n",
       "      <td>17.0</td>\n",
       "      <td>1575.0</td>\n",
       "      <td>4780.0</td>\n",
       "      <td>2030.0</td>\n",
       "      <td>1136.0</td>\n",
       "      <td>2.144559</td>\n",
       "      <td>107436.0</td>\n",
       "    </tr>\n",
       "    <tr>\n",
       "      <th>153</th>\n",
       "      <td>176000.0</td>\n",
       "      <td>8.242493</td>\n",
       "      <td>6.437752</td>\n",
       "      <td>6.091310</td>\n",
       "      <td>3.1</td>\n",
       "      <td>5.332719</td>\n",
       "      <td>24.0</td>\n",
       "      <td>1336.0</td>\n",
       "      <td>4509.0</td>\n",
       "      <td>1908.0</td>\n",
       "      <td>1199.0</td>\n",
       "      <td>1.894902</td>\n",
       "      <td>53421.0</td>\n",
       "    </tr>\n",
       "    <tr>\n",
       "      <th>164</th>\n",
       "      <td>82945.0</td>\n",
       "      <td>8.002025</td>\n",
       "      <td>5.351858</td>\n",
       "      <td>5.986452</td>\n",
       "      <td>9.1</td>\n",
       "      <td>4.682131</td>\n",
       "      <td>25.0</td>\n",
       "      <td>2500.0</td>\n",
       "      <td>4662.0</td>\n",
       "      <td>1760.0</td>\n",
       "      <td>1951.0</td>\n",
       "      <td>1.309289</td>\n",
       "      <td>41483.0</td>\n",
       "    </tr>\n",
       "    <tr>\n",
       "      <th>172</th>\n",
       "      <td>176895.0</td>\n",
       "      <td>8.733594</td>\n",
       "      <td>6.347389</td>\n",
       "      <td>6.171701</td>\n",
       "      <td>3.8</td>\n",
       "      <td>5.278115</td>\n",
       "      <td>21.0</td>\n",
       "      <td>1620.0</td>\n",
       "      <td>4638.0</td>\n",
       "      <td>1939.0</td>\n",
       "      <td>1262.0</td>\n",
       "      <td>1.898247</td>\n",
       "      <td>71338.0</td>\n",
       "    </tr>\n",
       "    <tr>\n",
       "      <th>185</th>\n",
       "      <td>99950.0</td>\n",
       "      <td>8.476163</td>\n",
       "      <td>5.905362</td>\n",
       "      <td>5.913503</td>\n",
       "      <td>4.5</td>\n",
       "      <td>5.135798</td>\n",
       "      <td>26.0</td>\n",
       "      <td>1175.0</td>\n",
       "      <td>4147.0</td>\n",
       "      <td>1751.0</td>\n",
       "      <td>1248.0</td>\n",
       "      <td>1.472439</td>\n",
       "      <td>30920.0</td>\n",
       "    </tr>\n",
       "    <tr>\n",
       "      <th>186</th>\n",
       "      <td>45900.0</td>\n",
       "      <td>8.216088</td>\n",
       "      <td>5.634790</td>\n",
       "      <td>5.641907</td>\n",
       "      <td>5.5</td>\n",
       "      <td>4.941642</td>\n",
       "      <td>28.0</td>\n",
       "      <td>950.0</td>\n",
       "      <td>4010.0</td>\n",
       "      <td>1720.0</td>\n",
       "      <td>1220.0</td>\n",
       "      <td>0.696613</td>\n",
       "      <td>25876.0</td>\n",
       "    </tr>\n",
       "    <tr>\n",
       "      <th>196</th>\n",
       "      <td>990000.0</td>\n",
       "      <td>8.696176</td>\n",
       "      <td>6.593045</td>\n",
       "      <td>6.698268</td>\n",
       "      <td>3.3</td>\n",
       "      <td>5.438079</td>\n",
       "      <td>23.0</td>\n",
       "      <td>1350.0</td>\n",
       "      <td>4605.0</td>\n",
       "      <td>2036.0</td>\n",
       "      <td>1169.0</td>\n",
       "      <td>2.701395</td>\n",
       "      <td>68306.0</td>\n",
       "    </tr>\n",
       "    <tr>\n",
       "      <th>208</th>\n",
       "      <td>96964.0</td>\n",
       "      <td>8.242756</td>\n",
       "      <td>5.991465</td>\n",
       "      <td>5.780744</td>\n",
       "      <td>4.7</td>\n",
       "      <td>5.209486</td>\n",
       "      <td>28.0</td>\n",
       "      <td>1515.0</td>\n",
       "      <td>4491.0</td>\n",
       "      <td>1852.0</td>\n",
       "      <td>1294.0</td>\n",
       "      <td>1.446782</td>\n",
       "      <td>43958.0</td>\n",
       "    </tr>\n",
       "    <tr>\n",
       "      <th>234</th>\n",
       "      <td>17995.0</td>\n",
       "      <td>7.599902</td>\n",
       "      <td>5.043425</td>\n",
       "      <td>5.579730</td>\n",
       "      <td>0.0</td>\n",
       "      <td>4.653960</td>\n",
       "      <td>38.0</td>\n",
       "      <td>2059.0</td>\n",
       "      <td>5125.0</td>\n",
       "      <td>1915.0</td>\n",
       "      <td>1845.0</td>\n",
       "      <td>-0.652297</td>\n",
       "      <td>83039.0</td>\n",
       "    </tr>\n",
       "  </tbody>\n",
       "</table>\n",
       "</div>"
      ],
      "text/plain": [
       "         Price  Displacement       BHP    Torque  Acceleration  TopSpeed  \\\n",
       "2      30995.0      7.192182  4.584967  4.521789          11.8  4.663439   \n",
       "5     396000.0      8.688622  6.234411  6.040255           4.2  5.247024   \n",
       "6     189995.0      8.688622  6.350886  6.124683           4.1  5.209486   \n",
       "49   1139985.0      8.986321  6.894670  6.826545           2.5  5.529429   \n",
       "53     39995.0      8.726157  6.068426  6.037871           5.6  5.043425   \n",
       "76    198936.0      8.411610  6.331502  5.986452           3.4  5.288267   \n",
       "79    227107.0      8.742255  6.492240  6.220590           3.7  5.337538   \n",
       "133   265865.0      8.779250  6.551080  6.232448           2.9  5.379897   \n",
       "153   176000.0      8.242493  6.437752  6.091310           3.1  5.332719   \n",
       "164    82945.0      8.002025  5.351858  5.986452           9.1  4.682131   \n",
       "172   176895.0      8.733594  6.347389  6.171701           3.8  5.278115   \n",
       "185    99950.0      8.476163  5.905362  5.913503           4.5  5.135798   \n",
       "186    45900.0      8.216088  5.634790  5.641907           5.5  4.941642   \n",
       "196   990000.0      8.696176  6.593045  6.698268           3.3  5.438079   \n",
       "208    96964.0      8.242756  5.991465  5.780744           4.7  5.209486   \n",
       "234    17995.0      7.599902  5.043425  5.579730           0.0  4.653960   \n",
       "\n",
       "      MPG  Weight  Length   Width  Height  Price_transformed  predicted_price  \n",
       "2    56.0   988.0  3078.0  1680.0  1500.0           0.195732          11766.0  \n",
       "5    17.0  1680.0  4385.0  1865.0  1250.0           2.347343          60039.0  \n",
       "6    19.0  1739.0  4720.0  1910.0  1294.0           1.944592          79759.0  \n",
       "49   10.0  1990.0  4462.0  1998.0  1204.0           2.744618         134014.0  \n",
       "53   20.0  1890.0  4836.0  1918.0  1376.0           0.530415          83924.0  \n",
       "76   21.0  1430.0  4527.0  1937.0  1211.0           1.973684          60260.0  \n",
       "79   18.0  1790.0  4905.0  1955.0  1380.0           2.054347          79596.0  \n",
       "133  17.0  1575.0  4780.0  2030.0  1136.0           2.144559         107436.0  \n",
       "153  24.0  1336.0  4509.0  1908.0  1199.0           1.894902          53421.0  \n",
       "164  25.0  2500.0  4662.0  1760.0  1951.0           1.309289          41483.0  \n",
       "172  21.0  1620.0  4638.0  1939.0  1262.0           1.898247          71338.0  \n",
       "185  26.0  1175.0  4147.0  1751.0  1248.0           1.472439          30920.0  \n",
       "186  28.0   950.0  4010.0  1720.0  1220.0           0.696613          25876.0  \n",
       "196  23.0  1350.0  4605.0  2036.0  1169.0           2.701395          68306.0  \n",
       "208  28.0  1515.0  4491.0  1852.0  1294.0           1.446782          43958.0  \n",
       "234  38.0  2059.0  5125.0  1915.0  1845.0          -0.652297          83039.0  "
      ]
     },
     "execution_count": 159,
     "metadata": {},
     "output_type": "execute_result"
    }
   ],
   "source": [
    "bad_leverage_idx = (np.abs(std_resid) > vt) & (distances > ht)\n",
    "clean_data2.loc[bad_leverage_idx, :].assign(predicted_price=transformer.inverse_transform(estimator.predict(X.loc[bad_leverage_idx])).round())"
   ]
  },
  {
   "cell_type": "markdown",
   "metadata": {},
   "source": [
    "# Covariance"
   ]
  },
  {
   "cell_type": "markdown",
   "metadata": {},
   "source": [
    "We can also calculate a robust covariance matrix on the numeric features. We use the same data as used in the regression (no missings)"
   ]
  },
  {
   "cell_type": "markdown",
   "metadata": {},
   "source": [
    "## MCD"
   ]
  },
  {
   "cell_type": "code",
   "execution_count": 160,
   "metadata": {},
   "outputs": [],
   "source": [
    "mcd = FastMCDEstimator().fit(clean_data2.drop(columns=['Price']))"
   ]
  },
  {
   "cell_type": "code",
   "execution_count": 161,
   "metadata": {},
   "outputs": [
    {
     "data": {
      "image/png": "[encoded data removed]",
      "text/plain": [
       "<Figure size 1000x400 with 1 Axes>"
      ]
     },
     "metadata": {},
     "output_type": "display_data"
    }
   ],
   "source": [
    "fig = mcd.distance_distance_plot()"
   ]
  },
  {
   "cell_type": "markdown",
   "metadata": {},
   "source": [
    "## OGK"
   ]
  },
  {
   "cell_type": "markdown",
   "metadata": {},
   "source": [
    "We can do the same with other robust covariance estimators like OGK"
   ]
  },
  {
   "cell_type": "code",
   "execution_count": 162,
   "metadata": {},
   "outputs": [],
   "source": [
    "ogk = OGKEstimator().fit(clean_data2.drop(columns=['Price']))"
   ]
  },
  {
   "cell_type": "code",
   "execution_count": 163,
   "metadata": {},
   "outputs": [
    {
     "data": {
      "image/png": "[encoded data removed]",
      "text/plain": [
       "<Figure size 1000x400 with 1 Axes>"
      ]
     },
     "metadata": {},
     "output_type": "display_data"
    }
   ],
   "source": [
    "fig = ogk.distance_distance_plot()"
   ]
  },
  {
   "cell_type": "markdown",
   "metadata": {},
   "source": [
    "Let's have a look at the point that seems to lie very far from the majority of the data"
   ]
  },
  {
   "cell_type": "code",
   "execution_count": 169,
   "metadata": {},
   "outputs": [
    {
     "data": {
      "text/html": [
       "<div>\n",
       "<style scoped>\n",
       "    .dataframe tbody tr th:only-of-type {\n",
       "        vertical-align: middle;\n",
       "    }\n",
       "\n",
       "    .dataframe tbody tr th {\n",
       "        vertical-align: top;\n",
       "    }\n",
       "\n",
       "    .dataframe thead th {\n",
       "        text-align: right;\n",
       "    }\n",
       "</style>\n",
       "<table border=\"1\" class=\"dataframe\">\n",
       "  <thead>\n",
       "    <tr style=\"text-align: right;\">\n",
       "      <th></th>\n",
       "      <th>Maker</th>\n",
       "      <th>Model</th>\n",
       "      <th>Type</th>\n",
       "      <th>Fuel</th>\n",
       "      <th>Price</th>\n",
       "      <th>Cylinders</th>\n",
       "      <th>Displacement</th>\n",
       "      <th>DriveWheel</th>\n",
       "      <th>BHP</th>\n",
       "      <th>Torque</th>\n",
       "      <th>...</th>\n",
       "      <th>ClimateControl</th>\n",
       "      <th>CruiseControl</th>\n",
       "      <th>ElectricSeats</th>\n",
       "      <th>Leather</th>\n",
       "      <th>ParkingSensors</th>\n",
       "      <th>PowerSteering</th>\n",
       "      <th>SatNav</th>\n",
       "      <th>ESP</th>\n",
       "      <th>Verdict</th>\n",
       "      <th>Origin</th>\n",
       "    </tr>\n",
       "  </thead>\n",
       "  <tbody>\n",
       "    <tr>\n",
       "      <th>41</th>\n",
       "      <td>BMW</td>\n",
       "      <td>i3</td>\n",
       "      <td>i3 EV Range Extender 5d</td>\n",
       "      <td>Petrol</td>\n",
       "      <td>33830.0</td>\n",
       "      <td>2.0</td>\n",
       "      <td>647.0</td>\n",
       "      <td>Rear</td>\n",
       "      <td>170.0</td>\n",
       "      <td>184.0</td>\n",
       "      <td>...</td>\n",
       "      <td>standard</td>\n",
       "      <td>standard</td>\n",
       "      <td>no</td>\n",
       "      <td>optional</td>\n",
       "      <td>optional</td>\n",
       "      <td>standard</td>\n",
       "      <td>standard</td>\n",
       "      <td>standard</td>\n",
       "      <td>8.0</td>\n",
       "      <td>Europe</td>\n",
       "    </tr>\n",
       "  </tbody>\n",
       "</table>\n",
       "<p>1 rows × 32 columns</p>\n",
       "</div>"
      ],
      "text/plain": [
       "   Maker Model                     Type    Fuel    Price  Cylinders  \\\n",
       "41   BMW    i3  i3 EV Range Extender 5d  Petrol  33830.0        2.0   \n",
       "\n",
       "    Displacement DriveWheel    BHP  Torque  ...  ClimateControl  \\\n",
       "41         647.0       Rear  170.0   184.0  ...        standard   \n",
       "\n",
       "    CruiseControl  ElectricSeats   Leather  ParkingSensors  PowerSteering  \\\n",
       "41       standard             no  optional        optional       standard   \n",
       "\n",
       "      SatNav       ESP Verdict  Origin  \n",
       "41  standard  standard     8.0  Europe  \n",
       "\n",
       "[1 rows x 32 columns]"
      ]
     },
     "execution_count": 169,
     "metadata": {},
     "output_type": "execute_result"
    }
   ],
   "source": [
    "data.data.loc[clean_data2.index[(ogk._robust_distances > 80) & (ogk._mahalanobis_distances > 12)]]"
   ]
  },
  {
   "cell_type": "markdown",
   "metadata": {},
   "source": [
    "# PCA"
   ]
  },
  {
   "cell_type": "markdown",
   "metadata": {},
   "source": [
    "We can also apply robust PCA to the data"
   ]
  },
  {
   "cell_type": "code",
   "execution_count": 170,
   "metadata": {},
   "outputs": [
    {
     "name": "stdout",
     "output_type": "stream",
     "text": [
      "(245, 250)\n"
     ]
    }
   ],
   "source": [
    "pca =ROBPCAEstimator().fit(clean_data2.drop(columns=['Price']))"
   ]
  },
  {
   "cell_type": "code",
   "execution_count": 173,
   "metadata": {},
   "outputs": [
    {
     "data": {
      "image/png": "[encoded data removed]",
      "text/plain": [
       "<Figure size 1000x400 with 1 Axes>"
      ]
     },
     "metadata": {},
     "output_type": "display_data"
    }
   ],
   "source": [
    "score_distances, orthogonal_distances, score_cutoff, od_cutoff = pca.plot_outlier_map(clean_data2.drop(columns=['Price']).values, return_distances=True)"
   ]
  },
  {
   "cell_type": "markdown",
   "metadata": {},
   "source": [
    "We can inspect the bad leverage points:"
   ]
  },
  {
   "cell_type": "code",
   "execution_count": 174,
   "metadata": {},
   "outputs": [
    {
     "data": {
      "text/html": [
       "<div>\n",
       "<style scoped>\n",
       "    .dataframe tbody tr th:only-of-type {\n",
       "        vertical-align: middle;\n",
       "    }\n",
       "\n",
       "    .dataframe tbody tr th {\n",
       "        vertical-align: top;\n",
       "    }\n",
       "\n",
       "    .dataframe thead th {\n",
       "        text-align: right;\n",
       "    }\n",
       "</style>\n",
       "<table border=\"1\" class=\"dataframe\">\n",
       "  <thead>\n",
       "    <tr style=\"text-align: right;\">\n",
       "      <th></th>\n",
       "      <th>Price</th>\n",
       "      <th>Displacement</th>\n",
       "      <th>BHP</th>\n",
       "      <th>Torque</th>\n",
       "      <th>Acceleration</th>\n",
       "      <th>TopSpeed</th>\n",
       "      <th>MPG</th>\n",
       "      <th>Weight</th>\n",
       "      <th>Length</th>\n",
       "      <th>Width</th>\n",
       "      <th>Height</th>\n",
       "      <th>Price_transformed</th>\n",
       "    </tr>\n",
       "  </thead>\n",
       "  <tbody>\n",
       "    <tr>\n",
       "      <th>2</th>\n",
       "      <td>30995.0</td>\n",
       "      <td>7.192182</td>\n",
       "      <td>4.584967</td>\n",
       "      <td>4.521789</td>\n",
       "      <td>11.8</td>\n",
       "      <td>4.663439</td>\n",
       "      <td>56.0</td>\n",
       "      <td>988.0</td>\n",
       "      <td>3078.0</td>\n",
       "      <td>1680.0</td>\n",
       "      <td>1500.0</td>\n",
       "      <td>0.195732</td>\n",
       "    </tr>\n",
       "    <tr>\n",
       "      <th>107</th>\n",
       "      <td>21155.0</td>\n",
       "      <td>7.822845</td>\n",
       "      <td>5.123964</td>\n",
       "      <td>5.666427</td>\n",
       "      <td>14.5</td>\n",
       "      <td>4.718499</td>\n",
       "      <td>33.0</td>\n",
       "      <td>2270.0</td>\n",
       "      <td>5125.0</td>\n",
       "      <td>1920.0</td>\n",
       "      <td>1925.0</td>\n",
       "      <td>-0.379096</td>\n",
       "    </tr>\n",
       "    <tr>\n",
       "      <th>165</th>\n",
       "      <td>59465.0</td>\n",
       "      <td>8.002025</td>\n",
       "      <td>5.552960</td>\n",
       "      <td>6.124683</td>\n",
       "      <td>7.9</td>\n",
       "      <td>4.919981</td>\n",
       "      <td>35.0</td>\n",
       "      <td>2455.0</td>\n",
       "      <td>5120.0</td>\n",
       "      <td>1934.0</td>\n",
       "      <td>1850.0</td>\n",
       "      <td>0.983832</td>\n",
       "    </tr>\n",
       "    <tr>\n",
       "      <th>198</th>\n",
       "      <td>9345.0</td>\n",
       "      <td>6.905753</td>\n",
       "      <td>4.219508</td>\n",
       "      <td>4.248495</td>\n",
       "      <td>14.2</td>\n",
       "      <td>4.605170</td>\n",
       "      <td>65.0</td>\n",
       "      <td>210.0</td>\n",
       "      <td>3430.0</td>\n",
       "      <td>1630.0</td>\n",
       "      <td>1465.0</td>\n",
       "      <td>-1.973721</td>\n",
       "    </tr>\n",
       "    <tr>\n",
       "      <th>250</th>\n",
       "      <td>11475.0</td>\n",
       "      <td>6.903747</td>\n",
       "      <td>4.204693</td>\n",
       "      <td>4.204693</td>\n",
       "      <td>14.7</td>\n",
       "      <td>4.532599</td>\n",
       "      <td>64.0</td>\n",
       "      <td>845.0</td>\n",
       "      <td>2985.0</td>\n",
       "      <td>1680.0</td>\n",
       "      <td>1500.0</td>\n",
       "      <td>-1.519231</td>\n",
       "    </tr>\n",
       "    <tr>\n",
       "      <th>252</th>\n",
       "      <td>62285.0</td>\n",
       "      <td>8.403128</td>\n",
       "      <td>5.655992</td>\n",
       "      <td>6.171701</td>\n",
       "      <td>8.9</td>\n",
       "      <td>4.867534</td>\n",
       "      <td>29.0</td>\n",
       "      <td>2555.0</td>\n",
       "      <td>4950.0</td>\n",
       "      <td>1970.0</td>\n",
       "      <td>1865.0</td>\n",
       "      <td>1.031961</td>\n",
       "    </tr>\n",
       "  </tbody>\n",
       "</table>\n",
       "</div>"
      ],
      "text/plain": [
       "       Price  Displacement       BHP    Torque  Acceleration  TopSpeed   MPG  \\\n",
       "2    30995.0      7.192182  4.584967  4.521789          11.8  4.663439  56.0   \n",
       "107  21155.0      7.822845  5.123964  5.666427          14.5  4.718499  33.0   \n",
       "165  59465.0      8.002025  5.552960  6.124683           7.9  4.919981  35.0   \n",
       "198   9345.0      6.905753  4.219508  4.248495          14.2  4.605170  65.0   \n",
       "250  11475.0      6.903747  4.204693  4.204693          14.7  4.532599  64.0   \n",
       "252  62285.0      8.403128  5.655992  6.171701           8.9  4.867534  29.0   \n",
       "\n",
       "     Weight  Length   Width  Height  Price_transformed  \n",
       "2     988.0  3078.0  1680.0  1500.0           0.195732  \n",
       "107  2270.0  5125.0  1920.0  1925.0          -0.379096  \n",
       "165  2455.0  5120.0  1934.0  1850.0           0.983832  \n",
       "198   210.0  3430.0  1630.0  1465.0          -1.973721  \n",
       "250   845.0  2985.0  1680.0  1500.0          -1.519231  \n",
       "252  2555.0  4950.0  1970.0  1865.0           1.031961  "
      ]
     },
     "execution_count": 174,
     "metadata": {},
     "output_type": "execute_result"
    }
   ],
   "source": [
    "clean_data2.loc[(score_distances > score_cutoff) & (orthogonal_distances > od_cutoff)]"
   ]
  },
  {
   "cell_type": "markdown",
   "metadata": {},
   "source": [
    "# Outlier detection"
   ]
  },
  {
   "cell_type": "markdown",
   "metadata": {},
   "source": [
    "Finally, we can also detect cellwise outliers with the DDC estimator. Here we can use the data with missings."
   ]
  },
  {
   "cell_type": "code",
   "execution_count": 189,
   "metadata": {},
   "outputs": [],
   "source": [
    "ddc = DDCEstimator().fit(clean_data.drop(columns=['Price']))"
   ]
  },
  {
   "cell_type": "code",
   "execution_count": 190,
   "metadata": {},
   "outputs": [
    {
     "data": {
      "text/plain": [
       "<Axes: >"
      ]
     },
     "execution_count": 190,
     "metadata": {},
     "output_type": "execute_result"
    },
    {
     "data": {
      "image/png": "[encoded data removed]",
      "text/plain": [
       "<Figure size 1500x1000 with 2 Axes>"
      ]
     },
     "metadata": {},
     "output_type": "display_data"
    }
   ],
   "source": [
    "ddc.cellmap(clean_data.drop(columns=['Price']), figsize=(15, 10), only_color_outliers=True)"
   ]
  },
  {
   "cell_type": "code",
   "execution_count": 193,
   "metadata": {},
   "outputs": [
    {
     "data": {
      "text/plain": [
       "96"
      ]
     },
     "execution_count": 193,
     "metadata": {},
     "output_type": "execute_result"
    }
   ],
   "source": [
    "# total flagged cells:\n",
    "ddc.cellwise_outliers_.sum()"
   ]
  },
  {
   "cell_type": "markdown",
   "metadata": {},
   "source": [
    "DDC also predicts rowwise outliers:"
   ]
  },
  {
   "cell_type": "code",
   "execution_count": 197,
   "metadata": {},
   "outputs": [
    {
     "data": {
      "text/html": [
       "<div>\n",
       "<style scoped>\n",
       "    .dataframe tbody tr th:only-of-type {\n",
       "        vertical-align: middle;\n",
       "    }\n",
       "\n",
       "    .dataframe tbody tr th {\n",
       "        vertical-align: top;\n",
       "    }\n",
       "\n",
       "    .dataframe thead th {\n",
       "        text-align: right;\n",
       "    }\n",
       "</style>\n",
       "<table border=\"1\" class=\"dataframe\">\n",
       "  <thead>\n",
       "    <tr style=\"text-align: right;\">\n",
       "      <th></th>\n",
       "      <th>Price</th>\n",
       "      <th>Displacement</th>\n",
       "      <th>BHP</th>\n",
       "      <th>Torque</th>\n",
       "      <th>Acceleration</th>\n",
       "      <th>TopSpeed</th>\n",
       "      <th>MPG</th>\n",
       "      <th>Weight</th>\n",
       "      <th>Length</th>\n",
       "      <th>Width</th>\n",
       "      <th>Height</th>\n",
       "      <th>Price_transformed</th>\n",
       "    </tr>\n",
       "  </thead>\n",
       "  <tbody>\n",
       "    <tr>\n",
       "      <th>50</th>\n",
       "      <td>44995.0</td>\n",
       "      <td>7.723562</td>\n",
       "      <td>5.560682</td>\n",
       "      <td>5.298317</td>\n",
       "      <td>3.1</td>\n",
       "      <td>5.043425</td>\n",
       "      <td>NaN</td>\n",
       "      <td>575.0</td>\n",
       "      <td>3300.0</td>\n",
       "      <td>1685.0</td>\n",
       "      <td>1140.0</td>\n",
       "      <td>0.673180</td>\n",
       "    </tr>\n",
       "    <tr>\n",
       "      <th>69</th>\n",
       "      <td>23295.0</td>\n",
       "      <td>NaN</td>\n",
       "      <td>NaN</td>\n",
       "      <td>NaN</td>\n",
       "      <td>0.0</td>\n",
       "      <td>NaN</td>\n",
       "      <td>NaN</td>\n",
       "      <td>NaN</td>\n",
       "      <td>NaN</td>\n",
       "      <td>NaN</td>\n",
       "      <td>NaN</td>\n",
       "      <td>-0.225115</td>\n",
       "    </tr>\n",
       "    <tr>\n",
       "      <th>145</th>\n",
       "      <td>36200.0</td>\n",
       "      <td>NaN</td>\n",
       "      <td>NaN</td>\n",
       "      <td>NaN</td>\n",
       "      <td>0.0</td>\n",
       "      <td>NaN</td>\n",
       "      <td>NaN</td>\n",
       "      <td>876.0</td>\n",
       "      <td>3785.0</td>\n",
       "      <td>1850.0</td>\n",
       "      <td>1117.0</td>\n",
       "      <td>0.403849</td>\n",
       "    </tr>\n",
       "    <tr>\n",
       "      <th>219</th>\n",
       "      <td>6950.0</td>\n",
       "      <td>NaN</td>\n",
       "      <td>2.833213</td>\n",
       "      <td>3.737670</td>\n",
       "      <td>0.0</td>\n",
       "      <td>3.912023</td>\n",
       "      <td>NaN</td>\n",
       "      <td>450.0</td>\n",
       "      <td>2337.0</td>\n",
       "      <td>1237.0</td>\n",
       "      <td>1461.0</td>\n",
       "      <td>-2.703435</td>\n",
       "    </tr>\n",
       "  </tbody>\n",
       "</table>\n",
       "</div>"
      ],
      "text/plain": [
       "       Price  Displacement       BHP    Torque  Acceleration  TopSpeed  MPG  \\\n",
       "50   44995.0      7.723562  5.560682  5.298317           3.1  5.043425  NaN   \n",
       "69   23295.0           NaN       NaN       NaN           0.0       NaN  NaN   \n",
       "145  36200.0           NaN       NaN       NaN           0.0       NaN  NaN   \n",
       "219   6950.0           NaN  2.833213  3.737670           0.0  3.912023  NaN   \n",
       "\n",
       "     Weight  Length   Width  Height  Price_transformed  \n",
       "50    575.0  3300.0  1685.0  1140.0           0.673180  \n",
       "69      NaN     NaN     NaN     NaN          -0.225115  \n",
       "145   876.0  3785.0  1850.0  1117.0           0.403849  \n",
       "219   450.0  2337.0  1237.0  1461.0          -2.703435  "
      ]
     },
     "execution_count": 197,
     "metadata": {},
     "output_type": "execute_result"
    }
   ],
   "source": [
    "clean_data.loc[ddc.predict(clean_data.drop(columns=['Price']), rowwise=True)]"
   ]
  },
  {
   "cell_type": "markdown",
   "metadata": {},
   "source": [
    "Finally, DDC can impute missing data:"
   ]
  },
  {
   "cell_type": "code",
   "execution_count": 196,
   "metadata": {},
   "outputs": [
    {
     "data": {
      "text/html": [
       "<div>\n",
       "<style scoped>\n",
       "    .dataframe tbody tr th:only-of-type {\n",
       "        vertical-align: middle;\n",
       "    }\n",
       "\n",
       "    .dataframe tbody tr th {\n",
       "        vertical-align: top;\n",
       "    }\n",
       "\n",
       "    .dataframe thead th {\n",
       "        text-align: right;\n",
       "    }\n",
       "</style>\n",
       "<table border=\"1\" class=\"dataframe\">\n",
       "  <thead>\n",
       "    <tr style=\"text-align: right;\">\n",
       "      <th></th>\n",
       "      <th>Displacement</th>\n",
       "      <th>BHP</th>\n",
       "      <th>Torque</th>\n",
       "      <th>Acceleration</th>\n",
       "      <th>TopSpeed</th>\n",
       "      <th>MPG</th>\n",
       "      <th>Weight</th>\n",
       "      <th>Length</th>\n",
       "      <th>Width</th>\n",
       "      <th>Height</th>\n",
       "      <th>Price_transformed</th>\n",
       "    </tr>\n",
       "  </thead>\n",
       "  <tbody>\n",
       "    <tr>\n",
       "      <th>50</th>\n",
       "      <td>7.723562</td>\n",
       "      <td>5.107621</td>\n",
       "      <td>5.298317</td>\n",
       "      <td>8.595624</td>\n",
       "      <td>5.043425</td>\n",
       "      <td>41.712881</td>\n",
       "      <td>1366.347018</td>\n",
       "      <td>4325.917870</td>\n",
       "      <td>1685.000000</td>\n",
       "      <td>1140.000000</td>\n",
       "      <td>-0.274971</td>\n",
       "    </tr>\n",
       "    <tr>\n",
       "      <th>69</th>\n",
       "      <td>8.220957</td>\n",
       "      <td>6.056717</td>\n",
       "      <td>6.091718</td>\n",
       "      <td>9.669574</td>\n",
       "      <td>5.167592</td>\n",
       "      <td>27.848426</td>\n",
       "      <td>1747.013626</td>\n",
       "      <td>4746.995578</td>\n",
       "      <td>1889.215778</td>\n",
       "      <td>1263.282638</td>\n",
       "      <td>3.011093</td>\n",
       "    </tr>\n",
       "    <tr>\n",
       "      <th>145</th>\n",
       "      <td>7.730850</td>\n",
       "      <td>5.413218</td>\n",
       "      <td>5.490512</td>\n",
       "      <td>8.767774</td>\n",
       "      <td>5.013743</td>\n",
       "      <td>36.199527</td>\n",
       "      <td>1513.694986</td>\n",
       "      <td>3785.000000</td>\n",
       "      <td>1850.000000</td>\n",
       "      <td>1117.000000</td>\n",
       "      <td>0.403849</td>\n",
       "    </tr>\n",
       "    <tr>\n",
       "      <th>219</th>\n",
       "      <td>7.128682</td>\n",
       "      <td>4.748007</td>\n",
       "      <td>4.814795</td>\n",
       "      <td>14.775891</td>\n",
       "      <td>4.810382</td>\n",
       "      <td>53.541367</td>\n",
       "      <td>1179.859204</td>\n",
       "      <td>3761.460904</td>\n",
       "      <td>1680.058424</td>\n",
       "      <td>1461.000000</td>\n",
       "      <td>0.226841</td>\n",
       "    </tr>\n",
       "  </tbody>\n",
       "</table>\n",
       "</div>"
      ],
      "text/plain": [
       "     Displacement       BHP    Torque  Acceleration  TopSpeed        MPG  \\\n",
       "50       7.723562  5.107621  5.298317      8.595624  5.043425  41.712881   \n",
       "69       8.220957  6.056717  6.091718      9.669574  5.167592  27.848426   \n",
       "145      7.730850  5.413218  5.490512      8.767774  5.013743  36.199527   \n",
       "219      7.128682  4.748007  4.814795     14.775891  4.810382  53.541367   \n",
       "\n",
       "          Weight       Length        Width       Height  Price_transformed  \n",
       "50   1366.347018  4325.917870  1685.000000  1140.000000          -0.274971  \n",
       "69   1747.013626  4746.995578  1889.215778  1263.282638           3.011093  \n",
       "145  1513.694986  3785.000000  1850.000000  1117.000000           0.403849  \n",
       "219  1179.859204  3761.460904  1680.058424  1461.000000           0.226841  "
      ]
     },
     "execution_count": 196,
     "metadata": {},
     "output_type": "execute_result"
    }
   ],
   "source": [
    "ddc.impute(clean_data.drop(columns=['Price'])).loc[[50, 69, 145, 219], :]"
   ]
  }
 ],
 "metadata": {
  "kernelspec": {
   "display_name": ".venv",
   "language": "python",
   "name": "python3"
  },
  "language_info": {
   "codemirror_mode": {
    "name": "ipython",
    "version": 3
   },
   "file_extension": ".py",
   "mimetype": "text/x-python",
   "name": "python",
   "nbconvert_exporter": "python",
   "pygments_lexer": "ipython3",
   "version": "3.10.12"
  }
 },
 "nbformat": 4,
 "nbformat_minor": 2
}
