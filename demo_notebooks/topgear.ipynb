{
 "cells": [
  {
   "cell_type": "markdown",
   "metadata": {},
   "source": [
    "This notebook demonstrate most of the functionality offered by robpy by applying it to the topgear dataset. Utility function and univariate estimators are not demonstrated separately as they are mostly implemented as helpers to the multivariate estimators."
   ]
  },
  {
   "cell_type": "markdown",
   "metadata": {},
   "source": [
    "# Imports"
   ]
  },
  {
   "cell_type": "code",
   "execution_count": 18,
   "metadata": {},
   "outputs": [
    {
     "name": "stdout",
     "output_type": "stream",
     "text": [
      "The autoreload extension is already loaded. To reload it, use:\n",
      "  %reload_ext autoreload\n"
     ]
    }
   ],
   "source": [
    "import json\n",
    "\n",
    "from robpy.datasets import load_topgear\n",
    "from robpy.preprocessing import DataCleaner, RobustPowerTransformer\n",
    "from robpy.covariance import FastMCDEstimator, OGKEstimator\n",
    "from robpy.pca import ROBPCAEstimator\n",
    "from robpy.outliers import DDCEstimator\n",
    "from robpy.regression import MMEstimator\n",
    "\n",
    "%load_ext autoreload\n",
    "%autoreload 2\n"
   ]
  },
  {
   "cell_type": "markdown",
   "metadata": {},
   "source": [
    "# Load data"
   ]
  },
  {
   "cell_type": "markdown",
   "metadata": {},
   "source": [
    "Robpy has a dataset module which allows the user quick access to a few common datasets used in robust statistics literature. In this demo, we will work with the Topgear dataset."
   ]
  },
  {
   "cell_type": "code",
   "execution_count": 2,
   "metadata": {},
   "outputs": [
    {
     "name": "stdout",
     "output_type": "stream",
     "text": [
      ".. _topgear_dataset:\n",
      "\n",
      "TopGear dataset\n",
      "--------------------\n",
      "\n",
      "**Data Set Characteristics:**\n",
      "\n",
      "- Number of Instances: 297 \n",
      "- Number of Attributes: 32 (13 numeric, 19 categorical)\n",
      "- Attribute Information:\n",
      "    * Maker (str): the car maker.\n",
      "    * Model (str): the car model.\n",
      "    * Type (str): the exact model type.\n",
      "    * Fuel (str): the type of fuel (\"Diesel\" or \"Petrol\").\n",
      "    * Price (float): the list price (in UK pounds)\n",
      "    * Cylinders (float): the number of cylinders in the engine.\n",
      "    * Displacement (float): the displacement of the engine (in cc).\n",
      "    * DriveWheel (str): the type of drive wheel (\"4WD\", \"Front\" or \"Rear\").\n",
      "    * BHP (float): the power of the engine (in bhp).\n",
      "    * Torque (float): the torque of the engine (in lb/ft).\n",
      "    * Acceleration (float): the time it takes the car to get from 0 to 62 mph (in seconds).\n",
      "    * TopSpeed (float): the car's top speed (in mph).\n",
      "    * MPG (float): the combined fuel consuption (urban + extra urban; in miles per gallon).\n",
      "    * Weight (float): the car's curb weight (in kg).\n",
      "    * Length (float): the car's length (in mm).\n",
      "    * Width (float): the car's width (in mm).\n",
      "    * Height (float): the car's height (in mm).\n",
      "    * AdaptiveHeadlights (str): whether the car has adaptive headlights (\"no\", \"optional\" or \"standard\").\n",
      "    * AdjustableSteering (str): whether the car has adjustable steering (\"no\" or \"standard\").\n",
      "    * AlarmSystem (str) whether the car has an alarm system (\"no/optional\" or \"standard\").\n",
      "    * Automatic (str) whether the car has an automatic transmission (\"no\", \"optional\" or \"standard\").\n",
      "    * Bluetooth (str) whether the car has bluetooth (\"no\", \"optional\" or \"standard\").\n",
      "    * ClimateControl (str) whether the car has climate control (\"no\", \"optional\" or \"standard\").\n",
      "    * CruiseControl (str) whether the car has cruise control (\"no\", \"optional\" or \"standard\").\n",
      "    * ElectricSeats (str) whether the car has electric seats (\"no\", \"optional\" or \"standard\").\n",
      "    * Leather (str) whether the car has a leather interior (\"no\", \"optional\" or \"standard\").\n",
      "    * ParkingSensors (str) whether the car has parking sensors (\"no\", \"optional\" or \"standard\").\n",
      "    * PowerSteering (str) whether the car has power steering (\"no\" or \"standard\").\n",
      "    * SatNav (str) whether the car has a satellite navigation system (\"no\", \"optional\" or \"standard\").\n",
      "    * ESP (str) whether the car has ESP (\"no\", \"optional\" or \"standard\").\n",
      "    * Verdict (float) review score between 1 (lowest) and 10 (highest).\n",
      "    * Origin (str) the origin of the car maker (\"Asia\", \"Europe\" or \"USA\").\n",
      "\n",
      "- Creator: BBC TopGear\n",
      "- Source: https://rdrr.io/cran/robustHD/man/TopGear.html\n",
      "\n",
      "**Data Set Description:**\n",
      "The data set contains information on cars featured on the website of the popular BBC television show Top Gear.\n",
      "The data were scraped from http://www.topgear.com/uk/ on 2014-02-24. Variable Origin was added based on the car maker information.\n",
      "\n",
      "\n",
      "\n"
     ]
    }
   ],
   "source": [
    "data = load_topgear(as_frame=True)\n",
    "\n",
    "print(data.DESCR)"
   ]
  },
  {
   "cell_type": "markdown",
   "metadata": {},
   "source": [
    "The `DESCR` attribbute of the data object contains all metadata and a description of the dataset."
   ]
  },
  {
   "cell_type": "code",
   "execution_count": 3,
   "metadata": {},
   "outputs": [
    {
     "data": {
      "text/html": [
       "<div>\n",
       "<style scoped>\n",
       "    .dataframe tbody tr th:only-of-type {\n",
       "        vertical-align: middle;\n",
       "    }\n",
       "\n",
       "    .dataframe tbody tr th {\n",
       "        vertical-align: top;\n",
       "    }\n",
       "\n",
       "    .dataframe thead th {\n",
       "        text-align: right;\n",
       "    }\n",
       "</style>\n",
       "<table border=\"1\" class=\"dataframe\">\n",
       "  <thead>\n",
       "    <tr style=\"text-align: right;\">\n",
       "      <th></th>\n",
       "      <th>Maker</th>\n",
       "      <th>Model</th>\n",
       "      <th>Type</th>\n",
       "      <th>Fuel</th>\n",
       "      <th>Price</th>\n",
       "      <th>Cylinders</th>\n",
       "      <th>Displacement</th>\n",
       "      <th>DriveWheel</th>\n",
       "      <th>BHP</th>\n",
       "      <th>Torque</th>\n",
       "      <th>...</th>\n",
       "      <th>ClimateControl</th>\n",
       "      <th>CruiseControl</th>\n",
       "      <th>ElectricSeats</th>\n",
       "      <th>Leather</th>\n",
       "      <th>ParkingSensors</th>\n",
       "      <th>PowerSteering</th>\n",
       "      <th>SatNav</th>\n",
       "      <th>ESP</th>\n",
       "      <th>Verdict</th>\n",
       "      <th>Origin</th>\n",
       "    </tr>\n",
       "  </thead>\n",
       "  <tbody>\n",
       "    <tr>\n",
       "      <th>0</th>\n",
       "      <td>Alfa Romeo</td>\n",
       "      <td>Giulietta</td>\n",
       "      <td>Giulietta 1.6 JTDM-2 105 Veloce 5d</td>\n",
       "      <td>Diesel</td>\n",
       "      <td>21250.0</td>\n",
       "      <td>4.0</td>\n",
       "      <td>1598.0</td>\n",
       "      <td>Front</td>\n",
       "      <td>105.0</td>\n",
       "      <td>236.0</td>\n",
       "      <td>...</td>\n",
       "      <td>standard</td>\n",
       "      <td>standard</td>\n",
       "      <td>optional</td>\n",
       "      <td>optional</td>\n",
       "      <td>optional</td>\n",
       "      <td>standard</td>\n",
       "      <td>optional</td>\n",
       "      <td>standard</td>\n",
       "      <td>6.0</td>\n",
       "      <td>Europe</td>\n",
       "    </tr>\n",
       "    <tr>\n",
       "      <th>1</th>\n",
       "      <td>Alfa Romeo</td>\n",
       "      <td>MiTo</td>\n",
       "      <td>MiTo 1.4 TB MultiAir 105 Distinctive 3d</td>\n",
       "      <td>Petrol</td>\n",
       "      <td>15155.0</td>\n",
       "      <td>4.0</td>\n",
       "      <td>1368.0</td>\n",
       "      <td>Front</td>\n",
       "      <td>105.0</td>\n",
       "      <td>95.0</td>\n",
       "      <td>...</td>\n",
       "      <td>optional</td>\n",
       "      <td>standard</td>\n",
       "      <td>no</td>\n",
       "      <td>optional</td>\n",
       "      <td>standard</td>\n",
       "      <td>standard</td>\n",
       "      <td>optional</td>\n",
       "      <td>standard</td>\n",
       "      <td>5.0</td>\n",
       "      <td>Europe</td>\n",
       "    </tr>\n",
       "    <tr>\n",
       "      <th>2</th>\n",
       "      <td>Aston Martin</td>\n",
       "      <td>Cygnet</td>\n",
       "      <td>Cygnet 1.33 Standard 3d</td>\n",
       "      <td>Petrol</td>\n",
       "      <td>30995.0</td>\n",
       "      <td>4.0</td>\n",
       "      <td>1329.0</td>\n",
       "      <td>Front</td>\n",
       "      <td>98.0</td>\n",
       "      <td>92.0</td>\n",
       "      <td>...</td>\n",
       "      <td>standard</td>\n",
       "      <td>standard</td>\n",
       "      <td>no</td>\n",
       "      <td>no</td>\n",
       "      <td>no</td>\n",
       "      <td>standard</td>\n",
       "      <td>standard</td>\n",
       "      <td>standard</td>\n",
       "      <td>7.0</td>\n",
       "      <td>Europe</td>\n",
       "    </tr>\n",
       "    <tr>\n",
       "      <th>3</th>\n",
       "      <td>Aston Martin</td>\n",
       "      <td>DB9</td>\n",
       "      <td>DB9 6.0 517 Standard 2d 13MY</td>\n",
       "      <td>Petrol</td>\n",
       "      <td>131995.0</td>\n",
       "      <td>12.0</td>\n",
       "      <td>5935.0</td>\n",
       "      <td>Rear</td>\n",
       "      <td>517.0</td>\n",
       "      <td>457.0</td>\n",
       "      <td>...</td>\n",
       "      <td>standard</td>\n",
       "      <td>standard</td>\n",
       "      <td>standard</td>\n",
       "      <td>standard</td>\n",
       "      <td>standard</td>\n",
       "      <td>standard</td>\n",
       "      <td>standard</td>\n",
       "      <td>standard</td>\n",
       "      <td>7.0</td>\n",
       "      <td>Europe</td>\n",
       "    </tr>\n",
       "    <tr>\n",
       "      <th>4</th>\n",
       "      <td>Aston Martin</td>\n",
       "      <td>DB9 Volante</td>\n",
       "      <td>DB9 6.0 V12 517 Volante 2d 13MY</td>\n",
       "      <td>Petrol</td>\n",
       "      <td>141995.0</td>\n",
       "      <td>12.0</td>\n",
       "      <td>5935.0</td>\n",
       "      <td>Rear</td>\n",
       "      <td>517.0</td>\n",
       "      <td>457.0</td>\n",
       "      <td>...</td>\n",
       "      <td>standard</td>\n",
       "      <td>standard</td>\n",
       "      <td>standard</td>\n",
       "      <td>standard</td>\n",
       "      <td>standard</td>\n",
       "      <td>standard</td>\n",
       "      <td>standard</td>\n",
       "      <td>standard</td>\n",
       "      <td>7.0</td>\n",
       "      <td>Europe</td>\n",
       "    </tr>\n",
       "  </tbody>\n",
       "</table>\n",
       "<p>5 rows × 32 columns</p>\n",
       "</div>"
      ],
      "text/plain": [
       "          Maker        Model                                     Type    Fuel  \\\n",
       "0    Alfa Romeo    Giulietta       Giulietta 1.6 JTDM-2 105 Veloce 5d  Diesel   \n",
       "1    Alfa Romeo         MiTo  MiTo 1.4 TB MultiAir 105 Distinctive 3d  Petrol   \n",
       "2  Aston Martin       Cygnet                  Cygnet 1.33 Standard 3d  Petrol   \n",
       "3  Aston Martin          DB9             DB9 6.0 517 Standard 2d 13MY  Petrol   \n",
       "4  Aston Martin  DB9 Volante          DB9 6.0 V12 517 Volante 2d 13MY  Petrol   \n",
       "\n",
       "      Price  Cylinders  Displacement DriveWheel    BHP  Torque  ...  \\\n",
       "0   21250.0        4.0        1598.0      Front  105.0   236.0  ...   \n",
       "1   15155.0        4.0        1368.0      Front  105.0    95.0  ...   \n",
       "2   30995.0        4.0        1329.0      Front   98.0    92.0  ...   \n",
       "3  131995.0       12.0        5935.0       Rear  517.0   457.0  ...   \n",
       "4  141995.0       12.0        5935.0       Rear  517.0   457.0  ...   \n",
       "\n",
       "   ClimateControl  CruiseControl  ElectricSeats   Leather  ParkingSensors  \\\n",
       "0        standard       standard       optional  optional        optional   \n",
       "1        optional       standard             no  optional        standard   \n",
       "2        standard       standard             no        no              no   \n",
       "3        standard       standard       standard  standard        standard   \n",
       "4        standard       standard       standard  standard        standard   \n",
       "\n",
       "   PowerSteering    SatNav       ESP Verdict  Origin  \n",
       "0       standard  optional  standard     6.0  Europe  \n",
       "1       standard  optional  standard     5.0  Europe  \n",
       "2       standard  standard  standard     7.0  Europe  \n",
       "3       standard  standard  standard     7.0  Europe  \n",
       "4       standard  standard  standard     7.0  Europe  \n",
       "\n",
       "[5 rows x 32 columns]"
      ]
     },
     "execution_count": 3,
     "metadata": {},
     "output_type": "execute_result"
    }
   ],
   "source": [
    "data.data.head()"
   ]
  },
  {
   "cell_type": "markdown",
   "metadata": {},
   "source": [
    "# Preprocess data"
   ]
  },
  {
   "cell_type": "markdown",
   "metadata": {},
   "source": [
    "## Cleaning"
   ]
  },
  {
   "cell_type": "markdown",
   "metadata": {},
   "source": [
    "We use `DataCleaner` to remove non-numeric columns as well as columns and rows with too many missings."
   ]
  },
  {
   "cell_type": "code",
   "execution_count": 8,
   "metadata": {},
   "outputs": [],
   "source": [
    "cleaner = DataCleaner().fit(data.data)\n",
    "clean_data = cleaner.transform(data.data)"
   ]
  },
  {
   "cell_type": "markdown",
   "metadata": {},
   "source": [
    "We can inspect the dropped columns by type:"
   ]
  },
  {
   "cell_type": "code",
   "execution_count": 12,
   "metadata": {},
   "outputs": [
    {
     "name": "stdout",
     "output_type": "stream",
     "text": [
      "{\n",
      "    \"non_numeric_cols\": [\n",
      "        \"Maker\",\n",
      "        \"Model\",\n",
      "        \"Type\",\n",
      "        \"Fuel\",\n",
      "        \"DriveWheel\",\n",
      "        \"AdaptiveHeadlights\",\n",
      "        \"AdjustableSteering\",\n",
      "        \"AlarmSystem\",\n",
      "        \"Automatic\",\n",
      "        \"Bluetooth\",\n",
      "        \"ClimateControl\",\n",
      "        \"CruiseControl\",\n",
      "        \"ElectricSeats\",\n",
      "        \"Leather\",\n",
      "        \"ParkingSensors\",\n",
      "        \"PowerSteering\",\n",
      "        \"SatNav\",\n",
      "        \"ESP\",\n",
      "        \"Origin\"\n",
      "    ],\n",
      "    \"cols_rownumbers\": [],\n",
      "    \"cols_discrete\": [\n",
      "        \"Fuel\",\n",
      "        \"DriveWheel\",\n",
      "        \"AdaptiveHeadlights\",\n",
      "        \"AdjustableSteering\",\n",
      "        \"AlarmSystem\",\n",
      "        \"Automatic\",\n",
      "        \"Bluetooth\",\n",
      "        \"ClimateControl\",\n",
      "        \"CruiseControl\",\n",
      "        \"ElectricSeats\",\n",
      "        \"Leather\",\n",
      "        \"ParkingSensors\",\n",
      "        \"PowerSteering\",\n",
      "        \"SatNav\",\n",
      "        \"ESP\",\n",
      "        \"Origin\"\n",
      "    ],\n",
      "    \"cols_bad_scale\": [\n",
      "        \"Cylinders\"\n",
      "    ],\n",
      "    \"cols_missings\": []\n",
      "}\n"
     ]
    }
   ],
   "source": [
    "print(json.dumps(cleaner.dropped_columns, indent=4))"
   ]
  },
  {
   "cell_type": "markdown",
   "metadata": {},
   "source": [
    "As well as the dropped rows:"
   ]
  },
  {
   "cell_type": "code",
   "execution_count": 13,
   "metadata": {},
   "outputs": [
    {
     "data": {
      "text/plain": [
       "{'rows_missings': []}"
      ]
     },
     "execution_count": 13,
     "metadata": {},
     "output_type": "execute_result"
    }
   ],
   "source": [
    "cleaner.dropped_rows"
   ]
  },
  {
   "cell_type": "markdown",
   "metadata": {},
   "source": [
    "## Transforming"
   ]
  },
  {
   "cell_type": "markdown",
   "metadata": {},
   "source": [
    "The `Price` variable has a long tail. It's a good idea to apply a power transformation to it"
   ]
  },
  {
   "cell_type": "code",
   "execution_count": 16,
   "metadata": {},
   "outputs": [
    {
     "data": {
      "text/plain": [
       "<Axes: >"
      ]
     },
     "execution_count": 16,
     "metadata": {},
     "output_type": "execute_result"
    },
    {
     "data": {
      "image/png": "[encoded data removed]",
      "text/plain": [
       "<Figure size 1000x200 with 1 Axes>"
      ]
     },
     "metadata": {},
     "output_type": "display_data"
    }
   ],
   "source": [
    "clean_data['Price'].hist(bins=20, figsize=(10, 2))"
   ]
  },
  {
   "cell_type": "code",
   "execution_count": 20,
   "metadata": {},
   "outputs": [],
   "source": [
    "transformer = RobustPowerTransformer().fit(clean_data['Price'])\n",
    "\n",
    "clean_data['Price_transformed'] = transformer.transform(clean_data['Price'])"
   ]
  },
  {
   "cell_type": "markdown",
   "metadata": {},
   "source": [
    "We can inspect which method was selected as well as which lambda value was applied for the transformation:"
   ]
  },
  {
   "cell_type": "code",
   "execution_count": 22,
   "metadata": {},
   "outputs": [
    {
     "data": {
      "text/plain": [
       "('boxcox', -0.42698150173653826)"
      ]
     },
     "execution_count": 22,
     "metadata": {},
     "output_type": "execute_result"
    }
   ],
   "source": [
    "transformer.method, transformer.lambda_rew"
   ]
  },
  {
   "cell_type": "code",
   "execution_count": 21,
   "metadata": {},
   "outputs": [
    {
     "data": {
      "text/plain": [
       "<Axes: >"
      ]
     },
     "execution_count": 21,
     "metadata": {},
     "output_type": "execute_result"
    },
    {
     "data": {
      "image/png": "[encoded data removed]",
      "text/plain": [
       "<Figure size 1000x200 with 1 Axes>"
      ]
     },
     "metadata": {},
     "output_type": "display_data"
    }
   ],
   "source": [
    "clean_data['Price_transformed'].hist(bins=20, figsize=(10, 2))"
   ]
  },
  {
   "cell_type": "markdown",
   "metadata": {},
   "source": [
    "# Regression"
   ]
  },
  {
   "cell_type": "markdown",
   "metadata": {},
   "source": [
    "We can use robust regression to predict the (transformed) price using the remaining variables. For regression, we have to drop all missings."
   ]
  },
  {
   "cell_type": "code",
   "execution_count": 26,
   "metadata": {},
   "outputs": [],
   "source": [
    "clean_data2 = clean_data.dropna()\n",
    "X = clean_data2.drop(columns=['Price', 'Price_transformed'])\n",
    "y = clean_data2['Price_transformed']"
   ]
  },
  {
   "cell_type": "code",
   "execution_count": 34,
   "metadata": {},
   "outputs": [],
   "source": [
    "estimator = MMEstimator().fit(X, y)"
   ]
  },
  {
   "cell_type": "markdown",
   "metadata": {},
   "source": [
    "We can now get a diagnostic plot and ask for the underlying data"
   ]
  },
  {
   "cell_type": "code",
   "execution_count": 61,
   "metadata": {},
   "outputs": [
    {
     "data": {
      "image/png": "[encoded data removed]",
      "text/plain": [
       "<Figure size 1000x400 with 1 Axes>"
      ]
     },
     "metadata": {},
     "output_type": "display_data"
    }
   ],
   "source": [
    "resid, std_resid, distances, vt, ht = estimator.diagnostic_plot(X, y.to_numpy(), return_data=True)"
   ]
  },
  {
   "cell_type": "markdown",
   "metadata": {},
   "source": [
    "Now we can get an overview of the bad leverage points:"
   ]
  },
  {
   "cell_type": "code",
   "execution_count": 66,
   "metadata": {},
   "outputs": [
    {
     "data": {
      "text/html": [
       "<div>\n",
       "<style scoped>\n",
       "    .dataframe tbody tr th:only-of-type {\n",
       "        vertical-align: middle;\n",
       "    }\n",
       "\n",
       "    .dataframe tbody tr th {\n",
       "        vertical-align: top;\n",
       "    }\n",
       "\n",
       "    .dataframe thead th {\n",
       "        text-align: right;\n",
       "    }\n",
       "</style>\n",
       "<table border=\"1\" class=\"dataframe\">\n",
       "  <thead>\n",
       "    <tr style=\"text-align: right;\">\n",
       "      <th></th>\n",
       "      <th>Price</th>\n",
       "      <th>Displacement</th>\n",
       "      <th>BHP</th>\n",
       "      <th>Torque</th>\n",
       "      <th>Acceleration</th>\n",
       "      <th>TopSpeed</th>\n",
       "      <th>MPG</th>\n",
       "      <th>Weight</th>\n",
       "      <th>Length</th>\n",
       "      <th>Width</th>\n",
       "      <th>Height</th>\n",
       "      <th>Verdict</th>\n",
       "      <th>Price_transformed</th>\n",
       "      <th>predicted_price</th>\n",
       "    </tr>\n",
       "  </thead>\n",
       "  <tbody>\n",
       "    <tr>\n",
       "      <th>5</th>\n",
       "      <td>396000.0</td>\n",
       "      <td>5935.0</td>\n",
       "      <td>510.0</td>\n",
       "      <td>420.0</td>\n",
       "      <td>4.2</td>\n",
       "      <td>190.0</td>\n",
       "      <td>17.0</td>\n",
       "      <td>1680.0</td>\n",
       "      <td>4385.0</td>\n",
       "      <td>1865.0</td>\n",
       "      <td>1250.0</td>\n",
       "      <td>7.0</td>\n",
       "      <td>2.347343</td>\n",
       "      <td>97498.0</td>\n",
       "    </tr>\n",
       "    <tr>\n",
       "      <th>28</th>\n",
       "      <td>136250.0</td>\n",
       "      <td>3993.0</td>\n",
       "      <td>500.0</td>\n",
       "      <td>487.0</td>\n",
       "      <td>4.7</td>\n",
       "      <td>187.0</td>\n",
       "      <td>25.0</td>\n",
       "      <td>2470.0</td>\n",
       "      <td>4806.0</td>\n",
       "      <td>1920.0</td>\n",
       "      <td>1403.0</td>\n",
       "      <td>8.0</td>\n",
       "      <td>1.716345</td>\n",
       "      <td>482691.0</td>\n",
       "    </tr>\n",
       "    <tr>\n",
       "      <th>29</th>\n",
       "      <td>133200.0</td>\n",
       "      <td>5998.0</td>\n",
       "      <td>556.0</td>\n",
       "      <td>479.0</td>\n",
       "      <td>4.9</td>\n",
       "      <td>195.0</td>\n",
       "      <td>17.0</td>\n",
       "      <td>2475.0</td>\n",
       "      <td>5290.0</td>\n",
       "      <td>1920.0</td>\n",
       "      <td>1475.0</td>\n",
       "      <td>8.0</td>\n",
       "      <td>1.699594</td>\n",
       "      <td>395183.0</td>\n",
       "    </tr>\n",
       "    <tr>\n",
       "      <th>53</th>\n",
       "      <td>39995.0</td>\n",
       "      <td>6162.0</td>\n",
       "      <td>432.0</td>\n",
       "      <td>419.0</td>\n",
       "      <td>5.6</td>\n",
       "      <td>155.0</td>\n",
       "      <td>20.0</td>\n",
       "      <td>1890.0</td>\n",
       "      <td>4836.0</td>\n",
       "      <td>1918.0</td>\n",
       "      <td>1376.0</td>\n",
       "      <td>6.0</td>\n",
       "      <td>0.530415</td>\n",
       "      <td>88408.0</td>\n",
       "    </tr>\n",
       "    <tr>\n",
       "      <th>76</th>\n",
       "      <td>198936.0</td>\n",
       "      <td>4499.0</td>\n",
       "      <td>562.0</td>\n",
       "      <td>398.0</td>\n",
       "      <td>3.4</td>\n",
       "      <td>198.0</td>\n",
       "      <td>21.0</td>\n",
       "      <td>1430.0</td>\n",
       "      <td>4527.0</td>\n",
       "      <td>1937.0</td>\n",
       "      <td>1211.0</td>\n",
       "      <td>10.0</td>\n",
       "      <td>1.973684</td>\n",
       "      <td>79404.0</td>\n",
       "    </tr>\n",
       "    <tr>\n",
       "      <th>153</th>\n",
       "      <td>176000.0</td>\n",
       "      <td>3799.0</td>\n",
       "      <td>625.0</td>\n",
       "      <td>442.0</td>\n",
       "      <td>3.1</td>\n",
       "      <td>207.0</td>\n",
       "      <td>24.0</td>\n",
       "      <td>1336.0</td>\n",
       "      <td>4509.0</td>\n",
       "      <td>1908.0</td>\n",
       "      <td>1199.0</td>\n",
       "      <td>9.0</td>\n",
       "      <td>1.894902</td>\n",
       "      <td>71817.0</td>\n",
       "    </tr>\n",
       "    <tr>\n",
       "      <th>164</th>\n",
       "      <td>82945.0</td>\n",
       "      <td>2987.0</td>\n",
       "      <td>211.0</td>\n",
       "      <td>398.0</td>\n",
       "      <td>9.1</td>\n",
       "      <td>108.0</td>\n",
       "      <td>25.0</td>\n",
       "      <td>2500.0</td>\n",
       "      <td>4662.0</td>\n",
       "      <td>1760.0</td>\n",
       "      <td>1951.0</td>\n",
       "      <td>3.0</td>\n",
       "      <td>1.309289</td>\n",
       "      <td>43575.0</td>\n",
       "    </tr>\n",
       "    <tr>\n",
       "      <th>185</th>\n",
       "      <td>99950.0</td>\n",
       "      <td>4799.0</td>\n",
       "      <td>367.0</td>\n",
       "      <td>370.0</td>\n",
       "      <td>4.5</td>\n",
       "      <td>170.0</td>\n",
       "      <td>26.0</td>\n",
       "      <td>1175.0</td>\n",
       "      <td>4147.0</td>\n",
       "      <td>1751.0</td>\n",
       "      <td>1248.0</td>\n",
       "      <td>8.0</td>\n",
       "      <td>1.472439</td>\n",
       "      <td>33591.0</td>\n",
       "    </tr>\n",
       "    <tr>\n",
       "      <th>186</th>\n",
       "      <td>45900.0</td>\n",
       "      <td>3700.0</td>\n",
       "      <td>280.0</td>\n",
       "      <td>282.0</td>\n",
       "      <td>5.5</td>\n",
       "      <td>140.0</td>\n",
       "      <td>28.0</td>\n",
       "      <td>950.0</td>\n",
       "      <td>4010.0</td>\n",
       "      <td>1720.0</td>\n",
       "      <td>1220.0</td>\n",
       "      <td>4.0</td>\n",
       "      <td>0.696613</td>\n",
       "      <td>23457.0</td>\n",
       "    </tr>\n",
       "    <tr>\n",
       "      <th>196</th>\n",
       "      <td>990000.0</td>\n",
       "      <td>5980.0</td>\n",
       "      <td>730.0</td>\n",
       "      <td>811.0</td>\n",
       "      <td>3.3</td>\n",
       "      <td>230.0</td>\n",
       "      <td>23.0</td>\n",
       "      <td>1350.0</td>\n",
       "      <td>4605.0</td>\n",
       "      <td>2036.0</td>\n",
       "      <td>1169.0</td>\n",
       "      <td>8.0</td>\n",
       "      <td>2.701395</td>\n",
       "      <td>75717.0</td>\n",
       "    </tr>\n",
       "    <tr>\n",
       "      <th>198</th>\n",
       "      <td>9345.0</td>\n",
       "      <td>998.0</td>\n",
       "      <td>68.0</td>\n",
       "      <td>70.0</td>\n",
       "      <td>14.2</td>\n",
       "      <td>100.0</td>\n",
       "      <td>65.0</td>\n",
       "      <td>210.0</td>\n",
       "      <td>3430.0</td>\n",
       "      <td>1630.0</td>\n",
       "      <td>1465.0</td>\n",
       "      <td>7.0</td>\n",
       "      <td>-1.973721</td>\n",
       "      <td>6968.0</td>\n",
       "    </tr>\n",
       "    <tr>\n",
       "      <th>234</th>\n",
       "      <td>17995.0</td>\n",
       "      <td>1998.0</td>\n",
       "      <td>155.0</td>\n",
       "      <td>265.0</td>\n",
       "      <td>0.0</td>\n",
       "      <td>105.0</td>\n",
       "      <td>38.0</td>\n",
       "      <td>2059.0</td>\n",
       "      <td>5125.0</td>\n",
       "      <td>1915.0</td>\n",
       "      <td>1845.0</td>\n",
       "      <td>1.0</td>\n",
       "      <td>-0.652297</td>\n",
       "      <td>43550.0</td>\n",
       "    </tr>\n",
       "  </tbody>\n",
       "</table>\n",
       "</div>"
      ],
      "text/plain": [
       "        Price  Displacement    BHP  Torque  Acceleration  TopSpeed   MPG  \\\n",
       "5    396000.0        5935.0  510.0   420.0           4.2     190.0  17.0   \n",
       "28   136250.0        3993.0  500.0   487.0           4.7     187.0  25.0   \n",
       "29   133200.0        5998.0  556.0   479.0           4.9     195.0  17.0   \n",
       "53    39995.0        6162.0  432.0   419.0           5.6     155.0  20.0   \n",
       "76   198936.0        4499.0  562.0   398.0           3.4     198.0  21.0   \n",
       "153  176000.0        3799.0  625.0   442.0           3.1     207.0  24.0   \n",
       "164   82945.0        2987.0  211.0   398.0           9.1     108.0  25.0   \n",
       "185   99950.0        4799.0  367.0   370.0           4.5     170.0  26.0   \n",
       "186   45900.0        3700.0  280.0   282.0           5.5     140.0  28.0   \n",
       "196  990000.0        5980.0  730.0   811.0           3.3     230.0  23.0   \n",
       "198    9345.0         998.0   68.0    70.0          14.2     100.0  65.0   \n",
       "234   17995.0        1998.0  155.0   265.0           0.0     105.0  38.0   \n",
       "\n",
       "     Weight  Length   Width  Height  Verdict  Price_transformed  \\\n",
       "5    1680.0  4385.0  1865.0  1250.0      7.0           2.347343   \n",
       "28   2470.0  4806.0  1920.0  1403.0      8.0           1.716345   \n",
       "29   2475.0  5290.0  1920.0  1475.0      8.0           1.699594   \n",
       "53   1890.0  4836.0  1918.0  1376.0      6.0           0.530415   \n",
       "76   1430.0  4527.0  1937.0  1211.0     10.0           1.973684   \n",
       "153  1336.0  4509.0  1908.0  1199.0      9.0           1.894902   \n",
       "164  2500.0  4662.0  1760.0  1951.0      3.0           1.309289   \n",
       "185  1175.0  4147.0  1751.0  1248.0      8.0           1.472439   \n",
       "186   950.0  4010.0  1720.0  1220.0      4.0           0.696613   \n",
       "196  1350.0  4605.0  2036.0  1169.0      8.0           2.701395   \n",
       "198   210.0  3430.0  1630.0  1465.0      7.0          -1.973721   \n",
       "234  2059.0  5125.0  1915.0  1845.0      1.0          -0.652297   \n",
       "\n",
       "     predicted_price  \n",
       "5            97498.0  \n",
       "28          482691.0  \n",
       "29          395183.0  \n",
       "53           88408.0  \n",
       "76           79404.0  \n",
       "153          71817.0  \n",
       "164          43575.0  \n",
       "185          33591.0  \n",
       "186          23457.0  \n",
       "196          75717.0  \n",
       "198           6968.0  \n",
       "234          43550.0  "
      ]
     },
     "execution_count": 66,
     "metadata": {},
     "output_type": "execute_result"
    }
   ],
   "source": [
    "bad_leverage_idx = (np.abs(std_resid) > vt) & (distances > ht)\n",
    "clean_data2.loc[bad_leverage_idx, :].assign(predicted_price=transformer.inverse_transform(estimator.predict(X.loc[bad_leverage_idx])).round())"
   ]
  },
  {
   "cell_type": "markdown",
   "metadata": {},
   "source": []
  }
 ],
 "metadata": {
  "kernelspec": {
   "display_name": ".venv",
   "language": "python",
   "name": "python3"
  },
  "language_info": {
   "codemirror_mode": {
    "name": "ipython",
    "version": 3
   },
   "file_extension": ".py",
   "mimetype": "text/x-python",
   "name": "python",
   "nbconvert_exporter": "python",
   "pygments_lexer": "ipython3",
   "version": "3.10.12"
  }
 },
 "nbformat": 4,
 "nbformat_minor": 2
}
